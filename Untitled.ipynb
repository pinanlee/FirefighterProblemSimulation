{
 "cells": [
  {
   "cell_type": "code",
   "execution_count": 1,
   "id": "c2950338",
   "metadata": {},
   "outputs": [],
   "source": [
    "from PyQt5 import QtWidgets, QtGui, QtCore\n",
    "from PyQt5.QtGui import QImage, QPixmap\n",
    "from PyQt5.QtWidgets import QFileDialog\n",
    "\n",
    "\n",
    "from example_ui import Ui_MainWindow\n",
    "\n",
    "\n",
    "image1=\"\"\n",
    "image2=\"\"\n",
    "\n",
    "class MainWindow_controller(QtWidgets.QMainWindow):\n",
    "    def __init__(self):\n",
    "        super().__init__() # in python3, super(Class, self).xxx = super().xxx\n",
    "        self.ui = Ui_MainWindow()\n",
    "        self.ui.setupUi(self)\n",
    "        self.setup_control()\n",
    "\n",
    "    def setup_control(self):\n",
    "        # TODO\n",
    "        # qpushbutton doc: https://doc.qt.io/qt-5/qpushbutton.html\n",
    "        self.ui.PushButton_2.clicked.connect(self.seperate)\n",
    "\n",
    "\n",
    "    def seperate(self):\n",
    "        return 0\n",
    "\n",
    "\n"
   ]
  },
  {
   "cell_type": "code",
   "execution_count": null,
   "id": "572d23e8",
   "metadata": {},
   "outputs": [],
   "source": []
  },
  {
   "cell_type": "code",
   "execution_count": null,
   "id": "9457b6d3",
   "metadata": {},
   "outputs": [],
   "source": []
  }
 ],
 "metadata": {
  "kernelspec": {
   "display_name": "Python 3.10.11 64-bit (microsoft store)",
   "language": "python",
   "name": "python3"
  },
  "language_info": {
   "codemirror_mode": {
    "name": "ipython",
    "version": 3
   },
   "file_extension": ".py",
   "mimetype": "text/x-python",
   "name": "python",
   "nbconvert_exporter": "python",
   "pygments_lexer": "ipython3",
   "version": "3.10.11"
  },
  "vscode": {
   "interpreter": {
    "hash": "369e89362e6020e614be30b5432e1bfcc27e37ef0bf2383b32c612a34e4db924"
   }
  }
 },
 "nbformat": 4,
 "nbformat_minor": 5
}
